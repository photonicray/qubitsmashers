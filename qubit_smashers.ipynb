{
  "nbformat": 4,
  "nbformat_minor": 0,
  "metadata": {
    "colab": {
      "provenance": [],
      "authorship_tag": "ABX9TyN1q7/VFopVTaE7FewP8yaq",
      "include_colab_link": true
    },
    "kernelspec": {
      "name": "python3",
      "display_name": "Python 3"
    },
    "language_info": {
      "name": "python"
    }
  },
  "cells": [
    {
      "cell_type": "markdown",
      "metadata": {
        "id": "view-in-github",
        "colab_type": "text"
      },
      "source": [
        "<a href=\"https://colab.research.google.com/github/photonicray/qubitsmashers/blob/main/qubit_smashers.ipynb\" target=\"_parent\"><img src=\"https://colab.research.google.com/assets/colab-badge.svg\" alt=\"Open In Colab\"/></a>"
      ]
    },
    {
      "cell_type": "code",
      "execution_count": null,
      "metadata": {
        "colab": {
          "base_uri": "https://localhost:8080/"
        },
        "id": "bdBIOVabCvAC",
        "outputId": "88bf1dfc-ef32-4bed-8715-e7f67df775aa"
      },
      "outputs": [
        {
          "output_type": "stream",
          "name": "stdout",
          "text": [
            "Collecting QuantumRingsLib\n",
            "  Downloading QuantumRingsLib-0.9.11-cp311-cp311-manylinux_2_34_x86_64.whl.metadata (21 kB)\n",
            "Downloading QuantumRingsLib-0.9.11-cp311-cp311-manylinux_2_34_x86_64.whl (1.5 MB)\n",
            "\u001b[?25l   \u001b[90m━━━━━━━━━━━━━━━━━━━━━━━━━━━━━━━━━━━━━━━━\u001b[0m \u001b[32m0.0/1.5 MB\u001b[0m \u001b[31m?\u001b[0m eta \u001b[36m-:--:--\u001b[0m\r\u001b[2K   \u001b[91m━━━━━━━━━━━━━━━━\u001b[0m\u001b[91m╸\u001b[0m\u001b[90m━━━━━━━━━━━━━━━━━━━━━━━\u001b[0m \u001b[32m0.6/1.5 MB\u001b[0m \u001b[31m19.6 MB/s\u001b[0m eta \u001b[36m0:00:01\u001b[0m\r\u001b[2K   \u001b[90m━━━━━━━━━━━━━━━━━━━━━━━━━━━━━━━━━━━━━━━━\u001b[0m \u001b[32m1.5/1.5 MB\u001b[0m \u001b[31m25.3 MB/s\u001b[0m eta \u001b[36m0:00:00\u001b[0m\n",
            "\u001b[?25hInstalling collected packages: QuantumRingsLib\n",
            "Successfully installed QuantumRingsLib-0.9.11\n"
          ]
        }
      ],
      "source": [
        "!pip install QuantumRingsLib"
      ]
    },
    {
      "cell_type": "code",
      "source": [
        "import QuantumRingsLib\n",
        "from QuantumRingsLib import QuantumRegister, ClassicalRegister, QuantumCircuit\n",
        "from QuantumRingsLib import QuantumRingsProvider\n",
        "from QuantumRingsLib import job_monitor\n",
        "from matplotlib import pyplot as plt\n",
        "import numpy as np\n",
        "import math\n",
        "import time\n",
        "\n",
        "# Predefined semiprimes for different bit lengths\n",
        "semiprimes = {\n",
        "    8: 143,\n",
        "    10: 899,\n",
        "    12: 3127,\n",
        "    14: 11009,\n",
        "    16: 47053,\n",
        "    18: 167659,\n",
        "    20: 744647,\n",
        "    22: 3036893,\n",
        "    24: 11426971,\n",
        "    26: 58949987,\n",
        "    28: 208241207,\n",
        "    30: 857830637,\n",
        "    32: 2776108693,\n",
        "    34: 11455067797,\n",
        "    36: 52734393667,\n",
        "    38: 171913873883,\n",
        "    40: 862463409547,\n",
        "    42: 2830354423669,\n",
        "    44: 12942106192073,\n",
        "    46: 53454475917779,\n",
        "    48: 255975740711783,\n",
        "    50: 696252032788709,\n",
        "    52: 3622511636491483,\n",
        "    54: 15631190744806271,\n",
        "    56: 51326462028714137,\n",
        "    58: 217320198167105543,\n",
        "    60: 827414216976034907,\n",
        "    62: 3594396771839811733,\n",
        "    64: 13489534701147995111\n",
        "    # Add more if needed\n",
        "}\n",
        "\n",
        "# Step 1: Get user input for the number of bits\n",
        "bits = int(input(\"Enter the number of bits (e.g., 8, 10, 12, ...): \"))\n",
        "\n",
        "# Step 2: Select the semiprime based on bits\n",
        "N = semiprimes.get(bits)\n",
        "if N is None:\n",
        "    N = int(input(\"Enter the number to factor (N): \"))\n",
        "else:\n",
        "    print(f\"Using predefined semiprime for {bits} bits: {N}\")\n",
        "\n",
        "# Step 3: Set your co-prime 'a' value\n",
        "a = int(input(f\"Enter a value for 'a' (a < {N} and co-prime to {N}): \"))\n",
        "\n",
        "# Step 4: Get the Quantum Rings email\n",
        "email = input(\"Enter your Quantum Rings registered email: \")\n",
        "\n",
        "# Function to perform Inverse Quantum Fourier Transform (IQFT)\n",
        "def iqft_cct(qc, q, n):\n",
        "    for i in range(n):\n",
        "        for j in range(1, i + 1):\n",
        "            qc.cu1(-math.pi / 2 ** (i - j + 1), q[j - 1], q[i])\n",
        "        qc.h(q[i])\n",
        "    qc.barrier()\n",
        "    return\n",
        "\n",
        "# Function to plot histogram\n",
        "def plot_histogram(counts, title=\"\"):\n",
        "    fig, ax = plt.subplots(figsize=(10, 7))\n",
        "    plt.xlabel(\"States\")\n",
        "    plt.ylabel(\"Counts\")\n",
        "    mylist = [key for key, val in counts.items() for _ in range(val)]\n",
        "    unique, inverse = np.unique(mylist, return_inverse=True)\n",
        "    bin_counts = np.bincount(inverse)\n",
        "    plt.bar(unique, bin_counts)\n",
        "    maxFreq = max(counts.values())\n",
        "    plt.ylim(ymax=np.ceil(maxFreq / 10) * 10 if maxFreq % 10 else maxFreq + 10)\n",
        "    plt.title(title)\n",
        "    plt.show()\n",
        "\n",
        "# Function to run Shor's algorithm\n",
        "def run_shors_algorithm(N, a, shots=1024):\n",
        "    provider = QuantumRingsProvider(token='rings-200.Mv42vGhGh2uSkhQiwHKdifTPlnGg4M05', name='pernilalithpk@gmail.com')\n",
        "    backend = provider.get_backend(\"scarlet_quantum_rings\")\n",
        "\n",
        "    # Initialize quantum register and classical register\n",
        "    numberofqubits = 7\n",
        "    q = QuantumRegister(numberofqubits, 'q')\n",
        "    c = ClassicalRegister(4, 'c')\n",
        "    qc = QuantumCircuit(q, c)\n",
        "\n",
        "    # Initialize quantum circuit\n",
        "    qc.h(0)\n",
        "    qc.h(1)\n",
        "    qc.h(2)\n",
        "    qc.x(6)\n",
        "    qc.barrier()\n",
        "\n",
        "    # Modular exponentiation (7^x mod 15)\n",
        "    qc.cx(q[2], q[4])\n",
        "    qc.cx(q[2], q[5])\n",
        "    qc.cx(q[6], q[4])\n",
        "    qc.ccx(q[1], q[5], q[3])\n",
        "    qc.cx(q[3], q[5])\n",
        "    qc.ccx(q[1], q[4], q[6])\n",
        "    qc.cx(q[6], q[4])\n",
        "    qc.barrier()\n",
        "\n",
        "    # Apply IQFT\n",
        "    iqft_cct(qc, q, 3)\n",
        "\n",
        "    # Measure the quantum circuit\n",
        "    qc.measure(q[0], c[0])\n",
        "    qc.measure(q[1], c[1])\n",
        "    qc.measure(q[2], c[2])\n",
        "\n",
        "    # Draw the circuit\n",
        "    qc.draw('mpl')\n",
        "\n",
        "    # Execute the circuit on the quantum backend\n",
        "    job = backend.run(qc, shots=shots)\n",
        "    job_monitor(job)\n",
        "    result = job.result()\n",
        "    counts = result.get_counts()\n",
        "\n",
        "    # Visualize the result\n",
        "    plot_histogram(counts)\n",
        "\n",
        "    # Clean up\n",
        "    del q, c, qc\n",
        "    del result\n",
        "    del job\n",
        "\n",
        "    # Display results\n",
        "    print(f\"Factorization result for {N}:\")\n",
        "    print(f\"Measurement Results: {counts}\")\n",
        "    print(f\"Factors: {N} (Result should match expected values)\")\n",
        "    print(f\"Quantum Rings Email: {email}\")\n",
        "\n",
        "# Run the algorithm with the provided N and a\n",
        "run_shors_algorithm(N, a)\n"
      ],
      "metadata": {
        "colab": {
          "base_uri": "https://localhost:8080/",
          "height": 1000
        },
        "id": "rPQUsRf2CvrC",
        "outputId": "18476b14-b01c-4093-a502-a29b5463f79e"
      },
      "execution_count": null,
      "outputs": [
        {
          "output_type": "stream",
          "name": "stdout",
          "text": [
            "Enter the number of bits (e.g., 8, 10, 12, ...): 200\n",
            "Enter the number to factor (N): 98\n",
            "Enter a value for 'a' (a < 98 and co-prime to 98): 89\n",
            "Enter your Quantum Rings registered email: pernilalithpk@gmail.com\n",
            "       ┌───┐ ╎                                     ╎ ┌───┐               »\n",
            "q[0]: ■┤ H ├─╎─────────────────────────────────────╎─┤ H ├───────■───────»\n",
            "       ├───┤ ╎                                     ╎ └───┘┌──────┴──────┐»\n",
            "q[1]: ■┤ H ├─╎──────────────────■─────────■────────╎──────┤ U1(-pi/2)   ├»\n",
            "       ├───┤ ╎                  │         │        ╎      └─────────────┘»\n",
            "q[2]: ■┤ H ├─╎───■────■─────────│─────────│────────╎─────────────────────»\n",
            "       └───┘ ╎   │    │       ┌─┴─┐       │        ╎                     »\n",
            "q[3]: ■──────╎───│────│───────┤ X ├──■────│────────╎─────────────────────»\n",
            "             ╎ ┌─┴─┐  │  ┌───┐└─┬─┘  │    │  ┌───┐ ╎                     »\n",
            "q[4]: ■──────╎─┤ X ├──│──┤ X ├──│────│────■──┤ X ├─╎─────────────────────»\n",
            "             ╎ └───┘┌─┴─┐└─┬─┘  │  ┌─┴─┐  │  └─┬─┘ ╎                     »\n",
            "q[5]: ■──────╎──────┤ X ├──│────■──┤ X ├──│────│───╎─────────────────────»\n",
            "       ┌───┐ ╎      └───┘  │       └───┘┌─┴─┐  │   ╎                     »\n",
            "q[6]: ■┤ X ├─╎─────────────■────────────┤ X ├──■───╎─────────────────────»\n",
            "       └───┘ ╎                          └───┘      ╎                     »\n",
            "c: 4/ ■══════════════════════════════════════════════════════════════════»\n",
            "                                                                         »\n",
            "«                                                ╎ ┌───┐           \n",
            "«q[0]: ■────────────■────────────────────────────╎─┤ M ├────────── \n",
            "«       ┌───┐       │                            ╎ └─╥─┘┌───┐      \n",
            "«q[1]: ■┤ H ├───────│──────────────■─────────────╎───║──┤ M ├───── \n",
            "«       └───┘┌──────┴──────┐┌──────┴──────┐┌───┐ ╎   ║  └─╥─┘┌───┐ \n",
            "«q[2]: ■─────┤ U1(-pi/4)   ├┤ U1(-pi/2)   ├┤ H ├─╎───║────║──┤ M ├ \n",
            "«            └─────────────┘└─────────────┘└───┘ ╎   ║    ║  └─╥─┘ \n",
            "«q[3]: ■─────────────────────────────────────────╎───║────║────║── \n",
            "«                                                ╎   ║    ║    ║   \n",
            "«q[4]: ■─────────────────────────────────────────╎───║────║────║── \n",
            "«                                                ╎   ║    ║    ║   \n",
            "«q[5]: ■─────────────────────────────────────────╎───║────║────║── \n",
            "«                                                ╎   ║    ║    ║   \n",
            "«q[6]: ■─────────────────────────────────────────╎───║────║────║── \n",
            "«                                                ╎   ║    ║    ║   \n",
            "«c: 4/ ■═════════════════════════════════════════════╩════╩════╩══ \n",
            "«                                                    0    1    2   \n",
            "Job Running\n",
            "Job Done.\n",
            "Ending Job Monitor\n"
          ]
        },
        {
          "output_type": "display_data",
          "data": {
            "text/plain": [
              "<Figure size 1000x700 with 1 Axes>"
            ],
            "image/png": "[encoded data removed]"
          },
          "metadata": {}
        },
        {
          "output_type": "stream",
          "name": "stdout",
          "text": [
            "Factorization result for 98:\n",
            "Measurement Results: {'0000': 266, '0010': 233, '0100': 242, '0110': 283}\n",
            "Factors: 98 (Result should match expected values)\n",
            "Quantum Rings Email: pernilalithpk@gmail.com\n"
          ]
        }
      ]
    },
    {
      "cell_type": "code",
      "source": [],
      "metadata": {
        "id": "nsaTUs5PDnbv"
      },
      "execution_count": null,
      "outputs": []
    }
  ]
}